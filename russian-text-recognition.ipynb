{
  "nbformat": 4,
  "nbformat_minor": 0,
  "metadata": {
    "colab": {
      "name": "Untitled2.ipynb",
      "provenance": [],
      "toc_visible": true,
      "authorship_tag": "ABX9TyN7F8cCSpoXpSBpRFGqqKTU",
      "include_colab_link": true
    },
    "kernelspec": {
      "name": "python3",
      "display_name": "Python 3"
    }
  },
  "cells": [
    {
      "cell_type": "markdown",
      "metadata": {
        "id": "view-in-github",
        "colab_type": "text"
      },
      "source": [
        "<a href=\"https://colab.research.google.com/github/Marieta3/russian-text-recognition/blob/master/russian-text-recognition.ipynb\" target=\"_parent\"><img src=\"https://colab.research.google.com/assets/colab-badge.svg\" alt=\"Open In Colab\"/></a>"
      ]
    },
    {
      "cell_type": "markdown",
      "metadata": {
        "id": "KlI24mMmPQiJ",
        "colab_type": "text"
      },
      "source": [
        "### Import\n",
        "\n",
        "\n",
        "\n",
        "\n",
        "\n"
      ]
    },
    {
      "cell_type": "code",
      "metadata": {
        "id": "fXL4O9j4Pggx",
        "colab_type": "code",
        "colab": {}
      },
      "source": [
        "import numpy as np\n",
        "import cv2 # OpenCV\n",
        "import matplotlib\n",
        "import matplotlib.pyplot as plt\n",
        "import collections\n",
        "\n",
        "# keras\n",
        "from keras.models import Sequential\n",
        "from keras.layers.core import Dense, Activation\n",
        "from keras.optimizers import SGD\n",
        "\n",
        "# k-means\n",
        "from sklearn.cluster import KMeans"
      ],
      "execution_count": 0,
      "outputs": []
    },
    {
      "cell_type": "code",
      "metadata": {
        "id": "NvnUQ7h0P678",
        "colab_type": "code",
        "colab": {}
      },
      "source": [
        "# iscrtavanje slika u notebook-u\n",
        "%matplotlib inline\n",
        "# prikaz vecih slika\n",
        "matplotlib.rcParams['figure.figsize'] = 16,12"
      ],
      "execution_count": 0,
      "outputs": []
    },
    {
      "cell_type": "markdown",
      "metadata": {
        "id": "W2oGzsKlgZJu",
        "colab_type": "text"
      },
      "source": [
        "### Globalne promenljive"
      ]
    },
    {
      "cell_type": "code",
      "metadata": {
        "id": "TVgIpRlOgdWF",
        "colab_type": "code",
        "colab": {}
      },
      "source": [
        "alphabet5 = [\"А\", \"Б\", \"В\", \"Г\", \"Д\", \"Е\", \"Ё\", \"Ж\", \"З\", \"И\", \"Й\", \"К\", \"Л\", \"М\", \"Н\", \"О\", \"П\", \"Р\", \"С\", \"Т\", \"У\", \"Ф\", \"Х\", \"Ц\", \"Ч\", \"Ш\", \"Щ\", \"Ъ\", \"Ы\", \"Ь\", \"Э\", \"Ю\", \"Я\"]\n",
        "alphabet_lower_case = [\"а\", \"б\", \"в\", \"г\", \"д\", \"е\", \"ё\", \"ж\", \"з\", \"и\", \"й\", \"к\", \"л\", \"м\", \"н\", \"о\", \"п\", \"р\", \"с\", \"т\", \"у\", \"ф\", \"х\", \"ц\", \"ч\", \"ш\", \"щ\", \"ъ\", \"ы\", \"ь\", \"э\", \"ю\", \"я\"]"
      ],
      "execution_count": 0,
      "outputs": []
    },
    {
      "cell_type": "markdown",
      "metadata": {
        "id": "A8VH-hQgPtdP",
        "colab_type": "text"
      },
      "source": [
        "### Funkcije za obradu slike\n",
        "\n",
        "\n"
      ]
    },
    {
      "cell_type": "code",
      "metadata": {
        "id": "8bB6P81-Pscw",
        "colab_type": "code",
        "colab": {}
      },
      "source": [
        "def load_image(path):\n",
        "    return cv2.cvtColor(cv2.imread(path), cv2.COLOR_BGR2RGB)\n",
        "\n",
        "def image_gray(image):\n",
        "    return cv2.cvtColor(image, cv2.COLOR_RGB2GRAY)\n",
        "\n",
        "def image_bin(image_gs):\n",
        "    height, width = image_gs.shape[0:2]\n",
        "    image_binary = np.ndarray((height, width), dtype=np.uint8)\n",
        "    ret, image_bin = cv2.threshold(image_gs, 127, 255, cv2.THRESH_BINARY)\n",
        "    return image_bin\n",
        "\n",
        "def invert(image):\n",
        "    return 255-image\n",
        "\n",
        "def display_image(image, color=False):\n",
        "    if color:\n",
        "        plt.imshow(image)\n",
        "    else:\n",
        "        plt.imshow(image, 'gray')\n",
        "\n",
        "def dilate(image):\n",
        "    kernel = np.ones((3, 3)) # strukturni element 3x3 blok\n",
        "    return cv2.dilate(image, kernel, iterations=1)\n",
        "\n",
        "def erode(image):\n",
        "    kernel = np.ones((3, 3)) # strukturni element 3x3 blok\n",
        "    return cv2.erode(image, kernel, iterations=1)"
      ],
      "execution_count": 0,
      "outputs": []
    },
    {
      "cell_type": "markdown",
      "metadata": {
        "id": "CNUDcEDDYQ06",
        "colab_type": "text"
      },
      "source": [
        "### Izdvajanje regiona od interesa"
      ]
    },
    {
      "cell_type": "code",
      "metadata": {
        "id": "cbznSb5jYVTs",
        "colab_type": "code",
        "colab": {}
      },
      "source": [
        "def resize_region(region):\n",
        "    return cv2.resize(region, (28, 28), interpolation=cv2.INTER_NEAREST)"
      ],
      "execution_count": 0,
      "outputs": []
    },
    {
      "cell_type": "code",
      "metadata": {
        "id": "GN2EQbu4Yct8",
        "colab_type": "code",
        "colab": {}
      },
      "source": [
        "def select_roi(image_orig, image_bin):\n",
        "    contours, hierarchy = cv2.findContours(image_bin.copy(), cv2.RETR_LIST, cv2.CHAIN_APPROX_SIMPLE)\n",
        "    sorted_regions = [] # lista sortiranih regiona po X osi\n",
        "    regions_array = []\n",
        "    #contours1 = remove_inner_rois(contours)\n",
        "    for contour in contours:\n",
        "        x, y, w, h = cv2.boundingRect(contour) # koordinate i velicina granicnog pravougaonika\n",
        "        area = cv2.contourArea(contour)\n",
        "        #zasto 100? 30*42 sa malim greskama\n",
        "        if area > 100 and h < 100 and h > 15 and w > 20:\n",
        "            # kopirati [y:y+h+1, x:x+w+1] sa binarne slike i smestiti u novu sliku\n",
        "            # oznaciti region pravougaonikom na originalnoj slici sa rectangle funkcijom\n",
        "            if not is_inner(x, y, w, h, contours, image_bin.shape): #izbacujemo unutrasnje konture, npr ako imam slovo O\n",
        "              region = image_bin[y:y+h+1, x:x+w+1]\n",
        "              regions_array.append([resize_region(region), (x, y, w, h)])\n",
        "              cv2.rectangle(image_orig, (x, y), (x + w, y + h), (0, 255, 0), 2)\n",
        "    \n",
        "    regions_array = sorted(regions_array, key=lambda x: x[1][0])\n",
        "    sorted_regions = [region[0] for region in regions_array]\n",
        "    return image_orig, sorted_regions"
      ],
      "execution_count": 0,
      "outputs": []
    },
    {
      "cell_type": "code",
      "metadata": {
        "id": "NU3oJ4aH6qAQ",
        "colab_type": "code",
        "colab": {}
      },
      "source": [
        "def select_roi_with_distances(image_orig, image_bin):\n",
        "    contours, hierarchy = cv2.findContours(image_bin.copy(), cv2.RETR_EXTERNAL, cv2.CHAIN_APPROX_SIMPLE)\n",
        "    regions_array = []\n",
        "    for contour in contours:\n",
        "        x, y, w, h = cv2.boundingRect(contour)\n",
        "        area = cv2.contourArea(contour)\n",
        "        if area > 100 and h < 100 and h > 15 and w > 20:\n",
        "          region = image_bin[y:y+h+1, x:x+w+1]\n",
        "          regions_array.append([resize_region(region), (x, y, w, h)])\n",
        "          cv2.rectangle(image_orig, (x, y), (x+w, y+h), (0, 255, 0), 2)\n",
        "    \n",
        "    regions_array = sorted(regions_array, key=lambda x: x[1][0])\n",
        "    \n",
        "    sorted_regions = [region[0] for region in regions_array]\n",
        "    sorted_rectangles = [region[1] for region in regions_array]\n",
        "    region_distances = []\n",
        "    # izdvojiti sortirane parametre opisujucih pravougaonika\n",
        "    # izracunati rastojanja izmedju svih susednih regiona po X osi i dodati ih u niz rastojanja\n",
        "    for index in range(0, len(sorted_rectangles) - 1):\n",
        "        current = sorted_rectangles[index]\n",
        "        next_rect = sorted_rectangles[index + 1]\n",
        "        distance = next_rect[0] - (current[0] + current[2]) # x_next - (x_current + w_current)\n",
        "        region_distances.append(distance)\n",
        "    \n",
        "    return image_orig, sorted_regions, region_distances"
      ],
      "execution_count": 0,
      "outputs": []
    },
    {
      "cell_type": "code",
      "metadata": {
        "id": "RMgCVINNs5EB",
        "colab_type": "code",
        "colab": {}
      },
      "source": [
        "def is_inner(x2, y2, w2, h2, contours, shape):\n",
        "  h, w = shape\n",
        "  for c in contours:\n",
        "    x1, y1, w1, h1 = cv2.boundingRect(c)\n",
        "    if not x1 == 0 and not y1 == 0 and not h1 == h and not w1 == w and x1 < x2 < (x2 + w2) < (x1 + w1) and y1 < y2 < (y2 + h2) < (y1 + h1):\n",
        "      return True\n",
        "  return False"
      ],
      "execution_count": 0,
      "outputs": []
    },
    {
      "cell_type": "code",
      "metadata": {
        "id": "E8lGQ8NycYBV",
        "colab_type": "code",
        "colab": {}
      },
      "source": [
        "def remove_inner_rois(contours):\n",
        "  retVal = []\n",
        "  to_remove = []\n",
        "  temp = contours\n",
        "  \n",
        "  for i in range (len(contours)):\n",
        "    x1, y1, w1, h1 = cv2.boundingRect(contours[i])\n",
        "    for j in range (len(contours)):\n",
        "      x2, y2, w2, h2 = cv2.boundingRect(contours[j])\n",
        "      if x1 < x2 < (x2 + w2) < (x1 + w1) and y1 < y2 < (y2 + h2) < (y1 + h1):\n",
        "        to_remove.append(contours[j])\n",
        "      else:\n",
        "        #if np.any(contours[j] not in retVal):\n",
        "          retVal.append(contours[j])\n",
        "  print(len(retVal))\n",
        "  for item in to_remove:\n",
        "    temp.remove(item)\n",
        "  print(len(temp))   \n",
        "  return temp \n"
      ],
      "execution_count": 0,
      "outputs": []
    },
    {
      "cell_type": "markdown",
      "metadata": {
        "id": "19rK3jGmZbop",
        "colab_type": "text"
      },
      "source": [
        "### Priprema podataka za obučavanje"
      ]
    },
    {
      "cell_type": "code",
      "metadata": {
        "id": "CxPs1KDA7dAf",
        "colab_type": "code",
        "colab": {}
      },
      "source": [
        "def scale_to_range(image):\n",
        "    return image/255"
      ],
      "execution_count": 0,
      "outputs": []
    },
    {
      "cell_type": "code",
      "metadata": {
        "id": "oALVv7pN7fjx",
        "colab_type": "code",
        "colab": {}
      },
      "source": [
        "def matrix_to_vector(image):\n",
        "    return image.flatten()"
      ],
      "execution_count": 0,
      "outputs": []
    },
    {
      "cell_type": "code",
      "metadata": {
        "id": "fYp3dqFA7kv1",
        "colab_type": "code",
        "colab": {}
      },
      "source": [
        "def prepare_for_ann(regions):\n",
        "    ready_for_ann = []\n",
        "    for region in regions:\n",
        "        scale = scale_to_range(region)\n",
        "        ready_for_ann.append(matrix_to_vector(scale))\n",
        "    return ready_for_ann\n",
        "#vraca pobudjenost za svaki neuron od 0 do 1"
      ],
      "execution_count": 0,
      "outputs": []
    },
    {
      "cell_type": "code",
      "metadata": {
        "id": "ftp3hJ717vbs",
        "colab_type": "code",
        "colab": {}
      },
      "source": [
        "def convert_output(alphabet):\n",
        "    nn_outputs = []\n",
        "    for index in range(len(alphabet)):\n",
        "        output = np.zeros(len(alphabet))\n",
        "        output[index] = 1\n",
        "        nn_outputs.append(output)\n",
        "    return np.array(nn_outputs)"
      ],
      "execution_count": 0,
      "outputs": []
    },
    {
      "cell_type": "markdown",
      "metadata": {
        "id": "J5flhx1i8Ocq",
        "colab_type": "text"
      },
      "source": [
        "### Neuronska mreža"
      ]
    },
    {
      "cell_type": "code",
      "metadata": {
        "id": "G--YmItu8TMi",
        "colab_type": "code",
        "colab": {}
      },
      "source": [
        "def create_ann(output_size):\n",
        "    ann = Sequential()\n",
        "    ann.add(Dense(128, input_dim=784, activation='sigmoid'))\n",
        "    ann.add(Dense(output_size, activation='sigmoid'))\n",
        "    return ann"
      ],
      "execution_count": 0,
      "outputs": []
    },
    {
      "cell_type": "code",
      "metadata": {
        "id": "d3189BXk8Usv",
        "colab_type": "code",
        "colab": {}
      },
      "source": [
        "def train_ann(ann, X_train, y_train, epochs):\n",
        "    X_train = np.array(X_train, np.float32) # dati ulaz\n",
        "    y_train = np.array(y_train, np.float32) # zeljeni izlazi na date ulaze\n",
        "    \n",
        "    print(\"\\nTraining started...\")\n",
        "    sgd = SGD(lr=0.01, momentum=0.9)\n",
        "    ann.compile(loss='mean_squared_error', optimizer=sgd)\n",
        "    ann.fit(X_train, y_train, epochs=epochs, batch_size=1, verbose=0, shuffle=False)\n",
        "    print(\"\\nTraining completed...\")\n",
        "    return ann"
      ],
      "execution_count": 0,
      "outputs": []
    },
    {
      "cell_type": "markdown",
      "metadata": {
        "id": "aJZ9i9FOhOmy",
        "colab_type": "text"
      },
      "source": [
        "### Funkcije za redprocesiranje"
      ]
    },
    {
      "cell_type": "code",
      "metadata": {
        "id": "AWy-GTuNhRUt",
        "colab_type": "code",
        "colab": {}
      },
      "source": [
        "def training_preprocess(img):\n",
        "  alf_gray = image_gray(img)\n",
        "  alf_bin = image_bin(alf_gray)\n",
        "  alf_bin = erode(alf_bin)\n",
        "  alf_bin = erode(alf_bin)\n",
        "  alf_bin = erode(alf_bin)\n",
        "  #alf_bin = erode(alf_bin)\n",
        "  return alf_bin"
      ],
      "execution_count": 0,
      "outputs": []
    },
    {
      "cell_type": "markdown",
      "metadata": {
        "id": "0k8ku1JTgwhE",
        "colab_type": "text"
      },
      "source": [
        "### Funkcije za obučavanje"
      ]
    },
    {
      "cell_type": "code",
      "metadata": {
        "id": "8anim8zlgv6Y",
        "colab_type": "code",
        "colab": {}
      },
      "source": [
        "def train(img_path, alphabet, display = False, epochs = 1000):\n",
        "  alf_img = load_image(img_path)\n",
        "  alf_bin = training_preprocess(alf_img)\n",
        "  if display:\n",
        "    display_image(alf_img)\n",
        "    display_image(alf_bin)\n",
        "  selected_regions_alf, letters_alf = select_roi(alf_img.copy(), alf_bin)\n",
        "  display_image(selected_regions_alf)\n",
        "\n",
        "  inputs =prepare_for_ann(letters_alf)\n",
        "  outputs = convert_output(alphabet)\n",
        "  ann = create_ann(output_size=len(alphabet))\n",
        "  ann = train_ann(ann, inputs, outputs, epochs)\n",
        "\n",
        "  result = ann.predict(np.array(inputs, np.float32))\n",
        "  print(\"result\")\n",
        "  print(\"\\n\")\n",
        "  print(display_result(result, alphabet))"
      ],
      "execution_count": 0,
      "outputs": []
    },
    {
      "cell_type": "markdown",
      "metadata": {
        "id": "9WFuwCOE8d6z",
        "colab_type": "text"
      },
      "source": [
        "### Određivanje pobedničkog neurona"
      ]
    },
    {
      "cell_type": "code",
      "metadata": {
        "id": "AJGujdyI8c2l",
        "colab_type": "code",
        "colab": {}
      },
      "source": [
        "def winner(output):\n",
        "    return max(enumerate(output), key=lambda x: x[1])[0]"
      ],
      "execution_count": 0,
      "outputs": []
    },
    {
      "cell_type": "markdown",
      "metadata": {
        "id": "6dBE-oIG8os3",
        "colab_type": "text"
      },
      "source": [
        "### Prikaz rezultata"
      ]
    },
    {
      "cell_type": "code",
      "metadata": {
        "id": "TafliEo78tcq",
        "colab_type": "code",
        "colab": {}
      },
      "source": [
        "def display_result(outputs, alphabet):\n",
        "    result = []\n",
        "    for output in outputs:\n",
        "        result.append(alphabet[winner(output)])\n",
        "    return result"
      ],
      "execution_count": 0,
      "outputs": []
    },
    {
      "cell_type": "code",
      "metadata": {
        "id": "LODwku8w9OfA",
        "colab_type": "code",
        "colab": {}
      },
      "source": [
        "def display_result_with_spaces(outputs, alphabet, k_means):\n",
        "    # odredjivanje indeksa grupe koja odgovara rastojanju izmedju reci\n",
        "    w_space_group = max(enumerate(k_means.cluster_centers_), key=lambda x: x[1])[0]\n",
        "    result = alphabet[winner(outputs[0])]\n",
        "    # iterativno dodavanje prepoznatih elemenata\n",
        "    # dodavanje space karaktera ako je rastojanje izmedju dva slova odgovara rastojanju izmedju reci\n",
        "    for idx, output in enumerate(outputs[1:, :]):\n",
        "        if k_means.labels_[idx] == w_space_group:\n",
        "            result += ' '\n",
        "        result += alphabet[winner(output)]\n",
        "    return result"
      ],
      "execution_count": 0,
      "outputs": []
    },
    {
      "cell_type": "markdown",
      "metadata": {
        "id": "UuysFvHAxdVC",
        "colab_type": "text"
      },
      "source": [
        "### Treniranje"
      ]
    },
    {
      "cell_type": "code",
      "metadata": {
        "id": "oHTodNdXvabG",
        "colab_type": "code",
        "colab": {
          "base_uri": "https://localhost:8080/",
          "height": 860
        },
        "outputId": "dfd8dae5-c999-4e3a-fdfd-9103819fef87"
      },
      "source": [
        "train(img_path='lower_case.png', alphabet=alphabet_lower_case, display=True)"
      ],
      "execution_count": 73,
      "outputs": [
        {
          "output_type": "stream",
          "text": [
            "\n",
            "Training started...\n",
            "\n",
            "Training completed...\n",
            "result\n",
            "\n",
            "\n",
            "['а', 'б', 'в', 'г', 'д', 'е', 'ё', 'ж', 'з', 'и', 'й', 'к', 'л', 'м', 'н', 'о', 'п', 'р', 'с', 'т', 'у', 'ф', 'х', 'ц', 'ч', 'ш', 'щ', 'ъ', 'ы', 'ь', 'э', 'ю', 'я']\n"
          ],
          "name": "stdout"
        },
        {
          "output_type": "display_data",
          "data": {
            "image/png": "[encoded data removed]",
            "text/plain": [
              "<Figure size 1152x864 with 1 Axes>"
            ]
          },
          "metadata": {
            "tags": []
          }
        }
      ]
    }
  ]
}